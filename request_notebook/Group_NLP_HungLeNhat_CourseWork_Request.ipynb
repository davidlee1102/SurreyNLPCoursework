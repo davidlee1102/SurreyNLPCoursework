{
 "cells": [
  {
   "cell_type": "code",
   "execution_count": null,
   "outputs": [],
   "source": [
    "!pip install pandas"
   ],
   "metadata": {
    "collapsed": false,
    "pycharm": {
     "name": "#%%\n"
    }
   }
  },
  {
   "cell_type": "code",
   "execution_count": 12,
   "outputs": [],
   "source": [
    "import requests\n",
    "import json\n",
    "import pandas as pd\n",
    "from datetime import datetime"
   ],
   "metadata": {
    "collapsed": false,
    "pycharm": {
     "name": "#%%\n"
    }
   }
  },
  {
   "cell_type": "code",
   "execution_count": 13,
   "outputs": [],
   "source": [
    "data = {\n",
    "    \"user_input\": [],\n",
    "    \"emotion_predict\": [],\n",
    "    \"time_logs\": []\n",
    "}\n",
    "dataframe_capture = pd.DataFrame(data)\n",
    "dataframe_capture.to_csv(\"user_logs.csv\", index=False)"
   ],
   "metadata": {
    "collapsed": false,
    "pycharm": {
     "name": "#%%\n"
    }
   }
  },
  {
   "cell_type": "code",
   "execution_count": 9,
   "outputs": [],
   "source": [
    "def emotion_predict_response(string_text: str):\n",
    "    if isinstance(string_text, str):\n",
    "        string_text = str(string_text)\n",
    "    url = \"http://127.0.0.1:8000/emotion_check/\"\n",
    "    try:\n",
    "        data = {\"sentence_data\": f\"{string_text}\"}\n",
    "        headers = {'Content-Type': 'application/json'}\n",
    "        response = requests.post(url, data=json.dumps(data), headers=headers)\n",
    "        print(response)\n",
    "    except Exception as E:\n",
    "        print(E)\n",
    "        return response.status_code\n",
    "\n",
    "    return response.text"
   ],
   "metadata": {
    "collapsed": false,
    "pycharm": {
     "name": "#%%\n"
    }
   }
  },
  {
   "cell_type": "code",
   "execution_count": 10,
   "outputs": [
    {
     "name": "stdout",
     "output_type": "stream",
     "text": [
      "<Response [200]>\n"
     ]
    },
    {
     "data": {
      "text/plain": "'\"sadness\"'"
     },
     "execution_count": 10,
     "metadata": {},
     "output_type": "execute_result"
    }
   ],
   "source": [
    "emotion_predict_response(\"now you can see me as a manager\")"
   ],
   "metadata": {
    "collapsed": false,
    "pycharm": {
     "name": "#%%\n"
    }
   }
  },
  {
   "cell_type": "code",
   "execution_count": 20,
   "outputs": [],
   "source": [
    "def emotion_predict_response_with_caputure(string_text: str):\n",
    "    if isinstance(string_text, str):\n",
    "        string_text = str(string_text)\n",
    "    url = \"http://127.0.0.1:8000/emotion_check/\"\n",
    "    try:\n",
    "        data = {\"sentence_data\": f\"{string_text}\"}\n",
    "        headers = {'Content-Type': 'application/json'}\n",
    "        response = requests.post(url, data=json.dumps(data), headers=headers)\n",
    "        print(response)\n",
    "        if response.status_code == 200:\n",
    "            dataframe_capture = pd.read_csv('user_logs.csv')\n",
    "            user_input_logs = pd.DataFrame({\n",
    "                \"user_input\": [string_text],\n",
    "                \"emotion_predict\": [response.text],\n",
    "                \"time_logs\": [datetime.now()],\n",
    "            })\n",
    "\n",
    "            dataframe_capture = pd.concat([dataframe_capture, user_input_logs], ignore_index=True)\n",
    "            dataframe_capture.to_csv(\"user_logs.csv\", index=False)\n",
    "    except Exception as E:\n",
    "        print(E)\n",
    "        return response.status_code\n",
    "    return response.text"
   ],
   "metadata": {
    "collapsed": false,
    "pycharm": {
     "name": "#%%\n"
    }
   }
  },
  {
   "cell_type": "code",
   "execution_count": 21,
   "outputs": [
    {
     "name": "stdout",
     "output_type": "stream",
     "text": [
      "<Response [200]>\n"
     ]
    },
    {
     "data": {
      "text/plain": "'\"sadness\"'"
     },
     "execution_count": 21,
     "metadata": {},
     "output_type": "execute_result"
    }
   ],
   "source": [
    "emotion_predict_response_with_caputure(\"now you can see me as a manager\")"
   ],
   "metadata": {
    "collapsed": false,
    "pycharm": {
     "name": "#%%\n"
    }
   }
  }
 ],
 "metadata": {
  "kernelspec": {
   "display_name": "Python 3",
   "language": "python",
   "name": "python3"
  },
  "language_info": {
   "codemirror_mode": {
    "name": "ipython",
    "version": 2
   },
   "file_extension": ".py",
   "mimetype": "text/x-python",
   "name": "python",
   "nbconvert_exporter": "python",
   "pygments_lexer": "ipython2",
   "version": "2.7.6"
  }
 },
 "nbformat": 4,
 "nbformat_minor": 0
}